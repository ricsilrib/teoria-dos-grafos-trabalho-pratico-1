{
  "nbformat": 4,
  "nbformat_minor": 0,
  "metadata": {
    "colab": {
      "name": "segunda_entrega.ipynb",
      "provenance": [],
      "collapsed_sections": [],
      "include_colab_link": true
    },
    "kernelspec": {
      "name": "python3",
      "display_name": "Python 3"
    }
  },
  "cells": [
    {
      "cell_type": "markdown",
      "metadata": {
        "id": "view-in-github",
        "colab_type": "text"
      },
      "source": [
        "<a href=\"https://colab.research.google.com/github/ricsilrib/teoria-dos-grafos-trabalho-pratico-1/blob/main/segunda_entrega.ipynb\" target=\"_parent\"><img src=\"https://colab.research.google.com/assets/colab-badge.svg\" alt=\"Open In Colab\"/></a>"
      ]
    },
    {
      "cell_type": "code",
      "metadata": {
        "colab": {
          "base_uri": "https://localhost:8080/",
          "height": 248
        },
        "id": "8F73NRd8hRfh",
        "outputId": "221622c4-a1d9-42b3-8758-ec4c00a15a4c"
      },
      "source": [
        "import networkx as nx\n",
        "import matplotlib.pyplot as plt\n",
        "\n",
        "G = nx.Graph()\n",
        "\n",
        "G.add_node('v1')\n",
        "G.add_node('v2')\n",
        "G.add_node('v3')\n",
        "G.add_node('v4')\n",
        "G.add_node('v5')\n",
        "\n",
        "G.add_edge('v1', 'v2')\n",
        "G.add_edge('v2', 'v3')\n",
        "G.add_edge('v3', 'v4')\n",
        "G.add_edge('v4', 'v5')\n",
        "G.add_edge('v5', 'v1')\n",
        "G.add_edge('v2', 'v4')\n",
        "\n",
        "plt.figure(2)\n",
        "nx.draw_networkx(G, pos=nx.spring_layout(G), with_labels=True)\n",
        "plt.show()"
      ],
      "execution_count": null,
      "outputs": [
        {
          "output_type": "display_data",
          "data": {
            "image/png": "[encoded data removed]",
            "text/plain": [
              "<Figure size 432x288 with 1 Axes>"
            ]
          },
          "metadata": {
            "tags": []
          }
        }
      ]
    },
    {
      "cell_type": "markdown",
      "metadata": {
        "id": "Y6RnhmefhmSx"
      },
      "source": [
        "# Função \"ehRegular\""
      ]
    },
    {
      "cell_type": "code",
      "metadata": {
        "colab": {
          "base_uri": "https://localhost:8080/"
        },
        "id": "6Vy8ZKihhyFC",
        "outputId": "f23e0716-e358-4b14-919a-e6ecf9f6ba2b"
      },
      "source": [
        "def ehRegular(G):\n",
        "    no_1 = nx.utils.arbitrary_element(G)\n",
        "    grau1 = G.degree(no_1)\n",
        "    return all(grau1 == grau for _, grau in G.degree)\n",
        "\n",
        "ehRegular(G)"
      ],
      "execution_count": null,
      "outputs": [
        {
          "output_type": "execute_result",
          "data": {
            "text/plain": [
              "False"
            ]
          },
          "metadata": {
            "tags": []
          },
          "execution_count": 10
        }
      ]
    },
    {
      "cell_type": "markdown",
      "metadata": {
        "id": "4xgJUx6KZW9r"
      },
      "source": [
        "Fontes de pesquisa:\n",
        "\n",
        "Módulo: https://networkx.org/documentation/stable/_modules/networkx/utils/misc.html\n",
        "\n",
        "all(): https://docs.python.org/3/library/functions.html#all"
      ]
    },
    {
      "cell_type": "markdown",
      "metadata": {
        "id": "XQ_k8wSKD794"
      },
      "source": [
        "# Função \"ehCompleto\""
      ]
    },
    {
      "cell_type": "code",
      "metadata": {
        "colab": {
          "base_uri": "https://localhost:8080/"
        },
        "id": "RI71cjTtVzjP",
        "outputId": "1a4d0f95-3cad-41db-bf3c-23fa833f42b8"
      },
      "source": [
        "def ehCompleto(G):\n",
        "  n_v = G.number_of_nodes()\n",
        "  n_e = G.number_of_edges()\n",
        "  \n",
        "  if (n_e ==(n_v*(n_v-1))/2):\n",
        "    return True\n",
        "  else:\n",
        "    return False\n",
        "\n",
        "ehCompleto(G)"
      ],
      "execution_count": null,
      "outputs": [
        {
          "output_type": "execute_result",
          "data": {
            "text/plain": [
              "False"
            ]
          },
          "metadata": {
            "tags": []
          },
          "execution_count": 11
        }
      ]
    },
    {
      "cell_type": "markdown",
      "metadata": {
        "id": "O8pC0z5EEDfF"
      },
      "source": [
        "# Função \"ehConexo\""
      ]
    },
    {
      "cell_type": "code",
      "metadata": {
        "id": "ajQp5TA4U4-d"
      },
      "source": [
        "def dfs_ehConexo(G, v):\n",
        "    V = set(G.nodes)\n",
        "    if v in V:\n",
        "        visitados = set()\n",
        "        nao_visitados = {v for v in V}\n",
        "        pilha = []\n",
        "        nao_visitados.remove(v)\n",
        "        visitados.add(v)     \n",
        "        pilha.append(v)\n",
        "        while pilha:\n",
        "            vt = pilha[-1]\n",
        "            adjacentes_vt = set(G.neighbors(vt))\n",
        "            for w in adjacentes_vt:\n",
        "                if adjacentes_vt <= visitados:\n",
        "                    pilha.pop()\n",
        "                    break\n",
        "                elif w not in visitados:\n",
        "                    nao_visitados.remove(w)\n",
        "                    visitados.add(w)\n",
        "                    pilha.append(w)         \n",
        "                    break\n",
        "        return nao_visitados"
      ],
      "execution_count": null,
      "outputs": []
    },
    {
      "cell_type": "markdown",
      "metadata": {
        "id": "pXz-ScvYAlB8"
      },
      "source": [
        "Fontes de pesquisa:\n",
        "\n",
        "Módulo: https://networkx.org/documentation/stable/tutorial.html"
      ]
    },
    {
      "cell_type": "code",
      "metadata": {
        "colab": {
          "base_uri": "https://localhost:8080/"
        },
        "id": "ptFKSIVt5gL5",
        "outputId": "2620466b-d7a5-4215-bf1c-79594fa907ec"
      },
      "source": [
        "def ehConexo(G):\n",
        "  V = list(G.nodes)\n",
        "  return len(dfs_ehConexo(G, V[0])) == 0\n",
        "  \n",
        "ehConexo(G)"
      ],
      "execution_count": null,
      "outputs": [
        {
          "output_type": "execute_result",
          "data": {
            "text/plain": [
              "True"
            ]
          },
          "metadata": {
            "tags": []
          },
          "execution_count": 13
        }
      ]
    },
    {
      "cell_type": "markdown",
      "metadata": {
        "id": "3uqzPWYtEruR"
      },
      "source": [
        "## Testes do \"ehConexo\" com dois outros grafos"
      ]
    },
    {
      "cell_type": "code",
      "metadata": {
        "colab": {
          "base_uri": "https://localhost:8080/",
          "height": 282
        },
        "id": "ByfUrWmc6Qys",
        "outputId": "523f2c81-4bae-4361-d78f-a2f881984419"
      },
      "source": [
        "G2 = nx.Graph()\n",
        "G2.add_nodes_from(['v1', 'v2', 'v3', 'v4', 'v5'])\n",
        "\n",
        "G2.add_edges_from([('v1', 'v2'), ('v4', 'v5'), \n",
        "                   ('v5', 'v1'), ('v2', 'v4')])\n",
        "\n",
        "plt.figure(2)\n",
        "nx.draw_networkx(G2, pos=nx.spring_layout(G), with_labels=True)\n",
        "plt.show()\n",
        "\n",
        "print()\n",
        "\n",
        "ehConexo(G2)"
      ],
      "execution_count": null,
      "outputs": [
        {
          "output_type": "display_data",
          "data": {
            "image/png": "[encoded data removed]",
            "text/plain": [
              "<Figure size 432x288 with 1 Axes>"
            ]
          },
          "metadata": {
            "tags": []
          }
        },
        {
          "output_type": "stream",
          "text": [
            "\n"
          ],
          "name": "stdout"
        },
        {
          "output_type": "execute_result",
          "data": {
            "text/plain": [
              "False"
            ]
          },
          "metadata": {
            "tags": []
          },
          "execution_count": 14
        }
      ]
    },
    {
      "cell_type": "code",
      "metadata": {
        "colab": {
          "base_uri": "https://localhost:8080/",
          "height": 316
        },
        "id": "P-MH3kMJjjBG",
        "outputId": "a0c26721-aa86-45cf-aa67-8e7a366c5574"
      },
      "source": [
        "def dfs(G, v):\n",
        "    V = set(G.nodes)\n",
        "    if v in V:\n",
        "        visitados = set()\n",
        "        caminho = []\n",
        "        pilha = []       \n",
        "        visitados.add(v)     \n",
        "        pilha.append(v)\n",
        "        while pilha:\n",
        "            vt = pilha[-1]\n",
        "            adjacentes_vt = set(G.neighbors(vt))\n",
        "            for w in adjacentes_vt:\n",
        "                if adjacentes_vt <= visitados:\n",
        "                    pilha.pop()\n",
        "                    break\n",
        "                elif w not in visitados:\n",
        "                    visitados.add(w)\n",
        "                    pilha.append(w)\n",
        "                    aresta = (vt, w)\n",
        "                    caminho.append(aresta)\n",
        "                    break\n",
        "        return caminho\n",
        "\n",
        "G3 = nx.Graph()\n",
        "G3.add_nodes_from(list(G2.nodes))\n",
        "G3.add_edges_from(dfs(G2, 'v1'))\n",
        "\n",
        "print(dfs(G2, 'v1'))\n",
        "print()\n",
        "\n",
        "\n",
        "\n",
        "plt.figure(2)\n",
        "nx.draw_networkx(G3, pos=nx.spring_layout(G), with_labels=True)\n",
        "plt.show()\n",
        "\n",
        "print()\n",
        "\n",
        "print(ehConexo(G3))"
      ],
      "execution_count": null,
      "outputs": [
        {
          "output_type": "stream",
          "text": [
            "[('v1', 'v2'), ('v2', 'v4'), ('v4', 'v5')]\n",
            "\n"
          ],
          "name": "stdout"
        },
        {
          "output_type": "display_data",
          "data": {
            "image/png": "[encoded data removed]",
            "text/plain": [
              "<Figure size 432x288 with 1 Axes>"
            ]
          },
          "metadata": {
            "tags": []
          }
        },
        {
          "output_type": "stream",
          "text": [
            "\n",
            "False\n"
          ],
          "name": "stdout"
        }
      ]
    }
  ]
}