{
  "nbformat": 4,
  "nbformat_minor": 0,
  "metadata": {
    "colab": {
      "name": "terceira_entrega.ipynb",
      "provenance": [],
      "collapsed_sections": [],
      "authorship_tag": "ABX9TyN50sxWPpC3B/avCeRbDR5T",
      "include_colab_link": true
    },
    "kernelspec": {
      "name": "python3",
      "display_name": "Python 3"
    },
    "language_info": {
      "name": "python"
    }
  },
  "cells": [
    {
      "cell_type": "markdown",
      "metadata": {
        "id": "view-in-github",
        "colab_type": "text"
      },
      "source": [
        "<a href=\"https://colab.research.google.com/github/ricsilrib/teoria-dos-grafos-trabalho-pratico-1/blob/main/terceira_entrega.ipynb\" target=\"_parent\"><img src=\"https://colab.research.google.com/assets/colab-badge.svg\" alt=\"Open In Colab\"/></a>"
      ]
    },
    {
      "cell_type": "code",
      "metadata": {
        "id": "ROL_063fn_k9",
        "colab": {
          "base_uri": "https://localhost:8080/",
          "height": 297
        },
        "outputId": "72543036-22d2-459b-c17a-5be03c451526"
      },
      "source": [
        "import matplotlib.pyplot as plt\n",
        "import networkx as nx\n",
        "\n",
        "G = nx.Graph()\n",
        "\n",
        "G.add_edge(\"a\", \"b\", weight=5)\n",
        "G.add_edge(\"a\", \"c\", weight=3)\n",
        "G.add_edge(\"c\", \"d\", weight=2)\n",
        "G.add_edge(\"c\", \"e\", weight=6)\n",
        "G.add_edge(\"c\", \"f\", weight=4)\n",
        "G.add_edge(\"a\", \"d\", weight=7)\n",
        "\n",
        "elarge = [(u, v) for (u, v, d) in G.edges(data=True) if d[\"weight\"] > 2.0]\n",
        "esmall = [(u, v) for (u, v, d) in G.edges(data=True) if d[\"weight\"] <= 2.0]\n",
        "\n",
        "pos = nx.spring_layout(G, seed=7)\n",
        "\n",
        "\n",
        "nx.draw_networkx_nodes(G, pos, node_size=700)\n",
        "\n",
        "\n",
        "nx.draw_networkx_edges(G, pos, edgelist=elarge, width=6)\n",
        "nx.draw_networkx_edges(\n",
        "    G, pos, edgelist=esmall, width=6, alpha=0.5, edge_color=\"b\", style=\"dashed\"\n",
        ")\n",
        "\n",
        "\n",
        "nx.draw_networkx_labels(G, pos, font_size=20, font_family=\"sans-serif\")\n",
        "\n",
        "ax = plt.gca()\n",
        "ax.margins(0.08)\n",
        "plt.axis(\"off\")\n",
        "plt.tight_layout()\n",
        "plt.show()"
      ],
      "execution_count": 171,
      "outputs": [
        {
          "output_type": "display_data",
          "data": {
            "image/png": "[encoded data removed]",
            "text/plain": [
              "<Figure size 432x288 with 1 Axes>"
            ]
          },
          "metadata": {
            "tags": []
          }
        }
      ]
    },
    {
      "cell_type": "markdown",
      "metadata": {
        "id": "7hRVc8bXqyHU"
      },
      "source": [
        "# Busca em Profundidade"
      ]
    },
    {
      "cell_type": "code",
      "metadata": {
        "id": "hCcFAQL6rFnm"
      },
      "source": [
        "def dfs(G, v):\n",
        "    V = set(G.nodes)\n",
        "    if v in V:\n",
        "        visitados = set()\n",
        "        caminho = []\n",
        "        pilha = []       \n",
        "        visitados.add(v)     \n",
        "        pilha.append(v)\n",
        "        while pilha:\n",
        "            vt = pilha[-1]\n",
        "            adjacentes_vt = set(G.neighbors(vt))\n",
        "            for w in adjacentes_vt:\n",
        "                if adjacentes_vt <= visitados:\n",
        "                    pilha.pop()\n",
        "                    break\n",
        "                elif w not in visitados:\n",
        "                    visitados.add(w)\n",
        "                    pilha.append(w)\n",
        "                    aresta = (vt, w)\n",
        "                    caminho.append(aresta)\n",
        "                    break\n",
        "        return caminho"
      ],
      "execution_count": 182,
      "outputs": []
    },
    {
      "cell_type": "markdown",
      "metadata": {
        "id": "mbJRa_JFsQjE"
      },
      "source": [
        "# Busca em Largura"
      ]
    },
    {
      "cell_type": "code",
      "metadata": {
        "id": "lQrKiRFCsP0m"
      },
      "source": [
        "def bfs(G, v):\n",
        "    V = set(G.nodes)\n",
        "    if v in V:\n",
        "        visitados = set()\n",
        "        caminho = []\n",
        "        fila = []\n",
        "        visitados.add(v)\n",
        "        fila.append(v)\n",
        "\n",
        "        while fila:\n",
        "            u = fila[0]\n",
        "            fila.remove(u)\n",
        "            adjacentes_u = set(G.neighbors(u))\n",
        "            for w in adjacentes_u:\n",
        "                if w not in visitados:\n",
        "                    visitados.add(w)\n",
        "                    fila.append(w)\n",
        "                    aresta = (u, w)\n",
        "                    caminho.append(aresta)\n",
        "\n",
        "        return caminho"
      ],
      "execution_count": 183,
      "outputs": []
    },
    {
      "cell_type": "markdown",
      "metadata": {
        "id": "34jVU6tCNUab"
      },
      "source": [
        "# Algoritmo de Dijkstra"
      ]
    },
    {
      "cell_type": "code",
      "metadata": {
        "id": "7_clHlQyS2O2"
      },
      "source": [
        "from heapq import heappush, heappop\n",
        "from itertools import count\n",
        "import networkx as nx\n",
        "\n",
        "\n",
        "def dijkstra(G, origem, get_weight, paths=None, destino=None):\n",
        "\n",
        "    G_succ = G.succ if G.is_directed() else G.adj\n",
        "\n",
        "    push = heappush\n",
        "    pop = heappop\n",
        "    dist = {} \n",
        "    seen = {origem: 0}\n",
        "    c = count()\n",
        "    fringe = [] \n",
        "    push(fringe, (0, next(c), origem))\n",
        "    while fringe:\n",
        "        (d, _, v) = pop(fringe)\n",
        "        if v in dist:\n",
        "            continue \n",
        "        dist[v] = d\n",
        "        if v == destino:\n",
        "            break\n",
        "\n",
        "        for u, e in G_succ[v].items():\n",
        "            cost = get_weight(v, u, e)\n",
        "            if cost is None:\n",
        "                continue\n",
        "            vu_dist = dist[v] + get_weight(v, u, e)\n",
        "\n",
        "            if u in dist:\n",
        "                if vu_dist < dist[u]:\n",
        "                    raise ValueError('Caminhos contraditórios. Verifique se há pesos negativos!')\n",
        "            elif u not in seen or vu_dist < seen[u]:\n",
        "                seen[u] = vu_dist\n",
        "                push(fringe, (vu_dist, next(c), u))\n",
        "                if paths is not None:\n",
        "                    paths[u] = paths[v] + [u]\n",
        "                \n",
        "    if paths is not None:\n",
        "        return (dist, paths)\n",
        "\n",
        "    return dist\n",
        "\n",
        "def menores_caminhos_da_origem(G, origem):\n",
        "\n",
        "    weight='weight'\n",
        "    if G.is_multigraph():\n",
        "        get_weight = lambda u, v, data: min(\n",
        "            eattr.get(weight, 1) for eattr in data.values())\n",
        "    else:\n",
        "        get_weight = lambda u, v, data: data.get(weight, 1)\n",
        "\n",
        "    return dijkstra(G, origem, get_weight)\n",
        "\n",
        "def paths_da_origem(G, origem):\n",
        "  return {n: menores_caminhos_da_origem(G, n) for n in G}"
      ],
      "execution_count": 190,
      "outputs": []
    },
    {
      "cell_type": "code",
      "metadata": {
        "id": "gBfLof29nArY"
      },
      "source": [
        "def menor_caminho(G, origem, destino=None):\n",
        "    weight = 'weight'\n",
        "    if origem == destino:\n",
        "        return ({origem: 0}, {origem: [origem]})\n",
        "\n",
        "    if G.is_multigraph():\n",
        "        get_weight = lambda u, v, data: min(\n",
        "            eattr.get(weight, 1) for eattr in data.values())\n",
        "    else:\n",
        "        get_weight = lambda u, v, data: data.get(weight, 1)\n",
        "\n",
        "    paths = {origem: [origem]}  \n",
        "    return dijkstra(G, origem, get_weight, paths=paths, destino=destino)\n"
      ],
      "execution_count": 185,
      "outputs": []
    },
    {
      "cell_type": "code",
      "metadata": {
        "id": "A3SVkN2dnLYv"
      },
      "source": [
        "def dijkstra_path(G, origem, destino):\n",
        "    (length, path) = menor_caminho(G, origem, destino=destino)\n",
        "    try:\n",
        "        return path[destino]\n",
        "    except KeyError:\n",
        "        raise nx.NetworkXNoPath(\n",
        "            \"Vértice %s não é alcançável a partir do vértice %s\" % (origem, destino))"
      ],
      "execution_count": 186,
      "outputs": []
    },
    {
      "cell_type": "code",
      "metadata": {
        "id": "rG7gvJXhnQjE"
      },
      "source": [
        "def dijkstra_distancia(G, origem, destino):\n",
        "    \n",
        "    distancia = menores_caminhos_da_origem(G, origem)\n",
        "    try:\n",
        "        return distancia[destino]\n",
        "    except KeyError:\n",
        "        raise nx.NetworkXNoPath(\n",
        "            \"Vértice %s não é alcançável a partir do vértice %s\" % (origem, destino))"
      ],
      "execution_count": 187,
      "outputs": []
    },
    {
      "cell_type": "markdown",
      "metadata": {
        "id": "JnxNrRvztBOz"
      },
      "source": [
        "# Testes"
      ]
    },
    {
      "cell_type": "code",
      "metadata": {
        "colab": {
          "base_uri": "https://localhost:8080/"
        },
        "id": "_N5PF9AsnUch",
        "outputId": "8d94963d-faac-4c4d-d89d-15e91590a9a9"
      },
      "source": [
        "print(\"DFS\")\n",
        "\n",
        "print(dfs(G,'f'))\n",
        "\n",
        "print()\n",
        "\n",
        "print(\"BFS\")\n",
        "\n",
        "print(bfs(G, 'f'))\n",
        "\n",
        "print()\n",
        "\n",
        "menores_caminhos = menores_caminhos_da_origem(G,'b')\n",
        "paths_da_origem = paths_da_origem(G,'b')\n",
        "path = dijkstra_path(G,'b','f')\n",
        "distancia = dijkstra_distancia(G, 'b','f')\n",
        "\n",
        "print(\"DICIONÁRIO DAS MENORES DISTÂNCIAS ENTRE O VÉRTICE DE 'ORIGEM' E OS DEMAIS VÉRTICES:\\n\")\n",
        "print(menores_caminhos)\n",
        "\n",
        "\n",
        "print(\"\\nMENORES CAMINHOS ENTRE A 'ORIGEM' E OS DEMAIS VÉRTICES:\\n\")\n",
        "for i in paths_da_origem:\n",
        "  print(dijkstra_path(G,'b',i))\n",
        "\n",
        "print(\"\\nDICIONÁRIO DAS MENORES DISTÂNCIAS ENTRE CADA PAR DE VÉRTICES:\\n\")\n",
        "for x in paths_da_origem:\n",
        "  print(paths_da_origem[x])\n",
        "\n",
        "print(\"\\nMENOR CAMINHO ENTRE O VÉRTICE DE 'ORIGEM' E 'DESTINO':\\n\")\n",
        "print(path)\n",
        "print(\"\\nDISTÂNCIA ENTRE O VÉRTICE DE 'ORIGEM' E 'DESTINO':\\n\")\n",
        "print(distancia)"
      ],
      "execution_count": 191,
      "outputs": [
        {
          "output_type": "stream",
          "text": [
            "DFS\n",
            "[('f', 'c'), ('c', 'a'), ('a', 'b'), ('a', 'd'), ('c', 'e')]\n",
            "\n",
            "BFS\n",
            "[('f', 'c'), ('c', 'a'), ('c', 'd'), ('c', 'e'), ('a', 'b')]\n",
            "\n",
            "DICIONÁRIO DAS MENORES DISTÂNCIAS ENTRE O VÉRTICE DE 'ORIGEM' E OS DEMAIS VÉRTICES:\n",
            "\n",
            "{'b': 0, 'a': 5, 'c': 8, 'd': 10, 'f': 12, 'e': 14}\n",
            "\n",
            "MENORES CAMINHOS ENTRE A 'ORIGEM' E OS DEMAIS VÉRTICES:\n",
            "\n",
            "['b', 'a']\n",
            "['b']\n",
            "['b', 'a', 'c']\n",
            "['b', 'a', 'c', 'd']\n",
            "['b', 'a', 'c', 'e']\n",
            "['b', 'a', 'c', 'f']\n",
            "\n",
            "DICIONÁRIO DAS MENORES DISTÂNCIAS ENTRE CADA PAR DE VÉRTICES:\n",
            "\n",
            "{'a': 0, 'c': 3, 'b': 5, 'd': 5, 'f': 7, 'e': 9}\n",
            "{'b': 0, 'a': 5, 'c': 8, 'd': 10, 'f': 12, 'e': 14}\n",
            "{'c': 0, 'd': 2, 'a': 3, 'f': 4, 'e': 6, 'b': 8}\n",
            "{'d': 0, 'c': 2, 'a': 5, 'f': 6, 'e': 8, 'b': 10}\n",
            "{'e': 0, 'c': 6, 'd': 8, 'a': 9, 'f': 10, 'b': 14}\n",
            "{'f': 0, 'c': 4, 'd': 6, 'a': 7, 'e': 10, 'b': 12}\n",
            "\n",
            "MENOR CAMINHO ENTRE O VÉRTICE DE 'ORIGEM' E 'DESTINO':\n",
            "\n",
            "['b', 'a', 'c', 'f']\n",
            "\n",
            "DISTÂNCIA ENTRE O VÉRTICE DE 'ORIGEM' E 'DESTINO':\n",
            "\n",
            "12\n"
          ],
          "name": "stdout"
        }
      ]
    }
  ]
}